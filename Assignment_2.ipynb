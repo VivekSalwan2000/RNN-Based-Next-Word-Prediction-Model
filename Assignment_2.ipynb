{
  "nbformat": 4,
  "nbformat_minor": 0,
  "metadata": {
    "colab": {
      "provenance": [],
      "authorship_tag": "ABX9TyOdrzSyFva3zEvCEhN0C42D",
      "include_colab_link": true
    },
    "kernelspec": {
      "name": "python3",
      "display_name": "Python 3"
    },
    "language_info": {
      "name": "python"
    }
  },
  "cells": [
    {
      "cell_type": "markdown",
      "metadata": {
        "id": "view-in-github",
        "colab_type": "text"
      },
      "source": [
        "<a href=\"https://colab.research.google.com/github/VivekSalwan2000/RNN-Based-Next-Word-Prediction-Model/blob/main/Assignment_2.ipynb\" target=\"_parent\"><img src=\"https://colab.research.google.com/assets/colab-badge.svg\" alt=\"Open In Colab\"/></a>"
      ]
    },
    {
      "cell_type": "markdown",
      "source": [
        "\n",
        "# COSC 3P96 - Assignment 2\n",
        "**Name:** Vivek Salwan  \n",
        "**Student ID:** 6951826\n",
        "\n",
        "## Overview\n",
        "\n",
        "In this notebook, we are building a language model using an RNN (Recurrent Neural Network) with TensorFlow/Keras. The key steps include:\n",
        "\n",
        "1. **Data Loading and Preprocessing:**  \n",
        "   We read in the dataset and preprocess the text (e.g., converting to lowercase, removing punctuation and extra spaces) to prepare it for modeling.\n",
        "\n",
        "2. **Tokenization and Sequence Creation:**  \n",
        "   The text is tokenized and transformed into numerical sequences. We then create input-output sequences where the model learns to predict the next word given a sequence of previous words.\n",
        "\n",
        "3. **Model Building and Training:**  \n",
        "   An RNN model is defined, trained on the prepared sequences, and evaluated. The model uses embedding and SimpleRNN layers to capture the language structure.\n",
        "\n",
        "4. **Model Saving and Analysis:**  \n",
        "   The trained model is saved in the native Keras format, and the training history is stored as JSON for later analysis. We then plot the training loss and accuracy to visualize model performance.\n",
        "\n",
        "Let's begin with the implementation!\n"
      ],
      "metadata": {
        "id": "YODXeThe3cuM"
      }
    },
    {
      "cell_type": "code",
      "execution_count": null,
      "metadata": {
        "id": "qbt8MaIHhp3k"
      },
      "outputs": [],
      "source": [
        "import numpy as np\n",
        "import tensorflow as tf\n",
        "import json\n",
        "from tensorflow.keras.preprocessing.text import Tokenizer\n",
        "from tensorflow.keras.preprocessing.sequence import pad_sequences\n",
        "from tensorflow.keras.models import Sequential\n",
        "from tensorflow.keras.layers import Embedding, SimpleRNN, Dense\n",
        "import regex as re\n",
        "import string\n",
        "import matplotlib.pyplot as plt"
      ]
    },
    {
      "cell_type": "markdown",
      "source": [
        "\n",
        "### Data Loading\n",
        "- **File Path:** Specifies the location of your data file.\n",
        "- **Function:** `load_data` reads the file with UTF-8 encoding.\n",
        "- **Usage:** The content is stored in the `raw_text` variable.\n",
        "\n",
        "\n"
      ],
      "metadata": {
        "id": "gFbzrygMplBm"
      }
    },
    {
      "cell_type": "code",
      "source": [
        "file_path = \"/Users/viveksalwan/Desktop/8th_semester/COSC_3P96/Assignment_2/Data.txt\"  # file path\n",
        "\n",
        "# Function to read data from file\n",
        "def load_data(file_path):\n",
        "    with open(file_path, \"r\", encoding=\"utf-8\") as file:\n",
        "        text = file.read()\n",
        "    return text\n",
        "\n",
        "# Load and process the dataset\n",
        "raw_text = load_data(file_path)"
      ],
      "metadata": {
        "id": "CrH4lTVniDTl"
      },
      "execution_count": null,
      "outputs": []
    },
    {
      "cell_type": "markdown",
      "source": [
        "### Text Preprocessing\n",
        "\n",
        "- **Lowercase:** Converts text to lowercase.\n",
        "- **Remove Punctuation:** Strips punctuation via regex.\n",
        "- **Remove Newlines & Extra Spaces:** Replaces newline characters and multiple spaces with a single space.\n",
        "\n",
        "Processed text is stored in `processed_text`.\n"
      ],
      "metadata": {
        "id": "oN94zBuIqTvv"
      }
    },
    {
      "cell_type": "code",
      "source": [
        "# Preprocess text\n",
        "def preprocess_text(text):\n",
        "    text = text.lower()  # Convert to lowercase\n",
        "    text = re.sub(f\"[{string.punctuation}]\", \"\", text)  # Remove punctuation\n",
        "    text = re.sub(\"\\n\", \" \", text)  # Remove newlines\n",
        "    text = re.sub(\" +\", \" \", text)  # Remove extra spaces\n",
        "    return text\n",
        "\n",
        "processed_text = preprocess_text(raw_text)\n"
      ],
      "metadata": {
        "id": "pG7vC89jmHai"
      },
      "execution_count": null,
      "outputs": []
    },
    {
      "cell_type": "markdown",
      "source": [
        "\n",
        "### Tokenization\n",
        "\n",
        "- **Tokenizer Setup:** Creates a `Tokenizer` with a vocabulary limit of 5,000 words and uses `<PAD>` for out-of-vocabulary tokens.\n",
        "- **Fitting:** Applies the tokenizer to `processed_text` to build a word index.\n",
        "- **Outputs:**  \n",
        "  - `word_index` holds the mapping of words to indices.  \n",
        "  - `vocab_size` is set to the total number of words plus one.\n"
      ],
      "metadata": {
        "id": "2vvuebyFrBjb"
      }
    },
    {
      "cell_type": "code",
      "source": [
        "# Tokenize text\n",
        "tokenizer = Tokenizer(num_words=5000, oov_token=\"<PAD>\")\n",
        "tokenizer.fit_on_texts([processed_text])\n",
        "word_index = tokenizer.word_index\n",
        "vocab_size = len(word_index) + 1"
      ],
      "metadata": {
        "id": "6XKXgaeCqcSh"
      },
      "execution_count": null,
      "outputs": []
    },
    {
      "cell_type": "markdown",
      "source": [
        "\n",
        "### Create Input-Output Sequences\n",
        "\n",
        "- **Function:** `create_sequences` splits the text into words and creates sequences using a sliding window.\n",
        "- **Sliding Window:** For each position in the text (starting at `seq_length`), it selects the previous `seq_length` words plus the current word as the sequence.\n",
        "- **Output:** The resulting list of sequences is stored in the variable `sequences`.\n"
      ],
      "metadata": {
        "id": "ieG_c_5QrQsc"
      }
    },
    {
      "cell_type": "code",
      "source": [
        "# Create input-output sequences\n",
        "def create_sequences(text, tokenizer, seq_length=4):\n",
        "    sequences = []\n",
        "    words = text.split()\n",
        "    for i in range(seq_length, len(words)):\n",
        "        seq = words[i-seq_length:i+1]\n",
        "        sequences.append(seq)\n",
        "    return sequences\n",
        "\n",
        "sequences = create_sequences(processed_text, tokenizer)"
      ],
      "metadata": {
        "id": "-tNJcTJWqenE"
      },
      "execution_count": null,
      "outputs": []
    },
    {
      "cell_type": "markdown",
      "source": [
        "### Convert Text Sequences to Numerical Sequences\n",
        "\n",
        "- **Mapping:** Each word in the sequences is replaced with its corresponding index from the tokenizer's `word_index`.\n",
        "- **Filtering:** Only words found in the `word_index` are converted.\n",
        "- **Output:** The resulting numerical sequences are stored in `encoded_sequences`.\n"
      ],
      "metadata": {
        "id": "b_VOUp8-rdZ0"
      }
    },
    {
      "cell_type": "code",
      "source": [
        "# Convert text sequences to numerical sequences\n",
        "encoded_sequences = []\n",
        "for seq in sequences:\n",
        "    encoded_seq = [tokenizer.word_index[word] for word in seq if word in tokenizer.word_index]\n",
        "    encoded_sequences.append(encoded_seq)"
      ],
      "metadata": {
        "id": "saJAoQS1qhsL"
      },
      "execution_count": null,
      "outputs": []
    },
    {
      "cell_type": "markdown",
      "source": [
        "### Convert to NumPy Array & Prepare Input-Output\n",
        "\n",
        "- **NumPy Conversion:** Converts the list of numerical sequences into a NumPy array.\n",
        "- **Input-Output Split:** Uses slicing to separate each sequence into input (`X`) and target (`y`), where the last word is the target.\n",
        "- **One-Hot Encoding:** Converts the target `y` into one-hot vectors using `vocab_size` as the number of classes.\n"
      ],
      "metadata": {
        "id": "sEzWupdJrvrn"
      }
    },
    {
      "cell_type": "code",
      "source": [
        "# Convert to numpy array\n",
        "encoded_sequences = np.array(encoded_sequences)\n",
        "X, y = encoded_sequences[:, :-1], encoded_sequences[:, -1]\n",
        "y = tf.keras.utils.to_categorical(y, num_classes=vocab_size)"
      ],
      "metadata": {
        "id": "lPAwEP8rqj_T"
      },
      "execution_count": null,
      "outputs": []
    },
    {
      "cell_type": "markdown",
      "source": [
        "### Define the RNN Model\n",
        "\n",
        "- **Architecture:**\n",
        "  - **Embedding Layer:** Converts input indices into dense vectors.\n",
        "  - **RNN Layers:** Two SimpleRNN layers (the first returns sequences).\n",
        "  - **Dense Layers:** A hidden layer with ReLU activation followed by an output layer with softmax to predict the next word.\n",
        "- **Compilation:** Uses categorical crossentropy loss and the Adam optimizer.\n",
        "- **Usage:** The function `build_rnn_model` is called with `vocab_size` and sequence length (`seq_length`) to create the model."
      ],
      "metadata": {
        "id": "fVLvNGcyr71d"
      }
    },
    {
      "cell_type": "code",
      "source": [
        "# Define the RNN model\n",
        "def build_rnn_model(vocab_size, seq_length):\n",
        "    model = Sequential([\n",
        "        Embedding(vocab_size, 50, input_length=seq_length),\n",
        "        SimpleRNN(100, return_sequences=True),\n",
        "        SimpleRNN(100),\n",
        "        Dense(100, activation='relu'),\n",
        "        Dense(vocab_size, activation='softmax')\n",
        "    ])\n",
        "    model.compile(loss='categorical_crossentropy', optimizer='adam', metrics=['accuracy'])\n",
        "    return model\n",
        "\n",
        "seq_length = X.shape[1]\n",
        "model = build_rnn_model(vocab_size, seq_length)\n",
        "model.build(input_shape=(None, seq_length))\n",
        "model.summary()"
      ],
      "metadata": {
        "id": "V8D0tSzSmRA-",
        "colab": {
          "base_uri": "https://localhost:8080/",
          "height": 324
        },
        "outputId": "b5166603-8f62-4abb-c5b3-7ba53b40bba1"
      },
      "execution_count": null,
      "outputs": [
        {
          "output_type": "stream",
          "name": "stderr",
          "text": [
            "/Users/viveksalwan/Library/Python/3.12/lib/python/site-packages/keras/src/layers/core/embedding.py:90: UserWarning: Argument `input_length` is deprecated. Just remove it.\n",
            "  warnings.warn(\n"
          ]
        },
        {
          "output_type": "display_data",
          "data": {
            "text/plain": [
              "\u001b[1mModel: \"sequential_5\"\u001b[0m\n"
            ],
            "text/html": [
              "<pre style=\"white-space:pre;overflow-x:auto;line-height:normal;font-family:Menlo,'DejaVu Sans Mono',consolas,'Courier New',monospace\"><span style=\"font-weight: bold\">Model: \"sequential_5\"</span>\n",
              "</pre>\n"
            ]
          },
          "metadata": {}
        },
        {
          "output_type": "display_data",
          "data": {
            "text/plain": [
              "┏━━━━━━━━━━━━━━━━━━━━━━━━━━━━━━━━━┳━━━━━━━━━━━━━━━━━━━━━━━━┳━━━━━━━━━━━━━━━┓\n",
              "┃\u001b[1m \u001b[0m\u001b[1mLayer (type)                   \u001b[0m\u001b[1m \u001b[0m┃\u001b[1m \u001b[0m\u001b[1mOutput Shape          \u001b[0m\u001b[1m \u001b[0m┃\u001b[1m \u001b[0m\u001b[1m      Param #\u001b[0m\u001b[1m \u001b[0m┃\n",
              "┡━━━━━━━━━━━━━━━━━━━━━━━━━━━━━━━━━╇━━━━━━━━━━━━━━━━━━━━━━━━╇━━━━━━━━━━━━━━━┩\n",
              "│ embedding_5 (\u001b[38;5;33mEmbedding\u001b[0m)         │ (\u001b[38;5;45mNone\u001b[0m, \u001b[38;5;34m4\u001b[0m, \u001b[38;5;34m50\u001b[0m)          │       \u001b[38;5;34m520,550\u001b[0m │\n",
              "├─────────────────────────────────┼────────────────────────┼───────────────┤\n",
              "│ simple_rnn_10 (\u001b[38;5;33mSimpleRNN\u001b[0m)       │ (\u001b[38;5;45mNone\u001b[0m, \u001b[38;5;34m4\u001b[0m, \u001b[38;5;34m100\u001b[0m)         │        \u001b[38;5;34m15,100\u001b[0m │\n",
              "├─────────────────────────────────┼────────────────────────┼───────────────┤\n",
              "│ simple_rnn_11 (\u001b[38;5;33mSimpleRNN\u001b[0m)       │ (\u001b[38;5;45mNone\u001b[0m, \u001b[38;5;34m100\u001b[0m)            │        \u001b[38;5;34m20,100\u001b[0m │\n",
              "├─────────────────────────────────┼────────────────────────┼───────────────┤\n",
              "│ dense_10 (\u001b[38;5;33mDense\u001b[0m)                │ (\u001b[38;5;45mNone\u001b[0m, \u001b[38;5;34m100\u001b[0m)            │        \u001b[38;5;34m10,100\u001b[0m │\n",
              "├─────────────────────────────────┼────────────────────────┼───────────────┤\n",
              "│ dense_11 (\u001b[38;5;33mDense\u001b[0m)                │ (\u001b[38;5;45mNone\u001b[0m, \u001b[38;5;34m10411\u001b[0m)          │     \u001b[38;5;34m1,051,511\u001b[0m │\n",
              "└─────────────────────────────────┴────────────────────────┴───────────────┘\n"
            ],
            "text/html": [
              "<pre style=\"white-space:pre;overflow-x:auto;line-height:normal;font-family:Menlo,'DejaVu Sans Mono',consolas,'Courier New',monospace\">┏━━━━━━━━━━━━━━━━━━━━━━━━━━━━━━━━━┳━━━━━━━━━━━━━━━━━━━━━━━━┳━━━━━━━━━━━━━━━┓\n",
              "┃<span style=\"font-weight: bold\"> Layer (type)                    </span>┃<span style=\"font-weight: bold\"> Output Shape           </span>┃<span style=\"font-weight: bold\">       Param # </span>┃\n",
              "┡━━━━━━━━━━━━━━━━━━━━━━━━━━━━━━━━━╇━━━━━━━━━━━━━━━━━━━━━━━━╇━━━━━━━━━━━━━━━┩\n",
              "│ embedding_5 (<span style=\"color: #0087ff; text-decoration-color: #0087ff\">Embedding</span>)         │ (<span style=\"color: #00d7ff; text-decoration-color: #00d7ff\">None</span>, <span style=\"color: #00af00; text-decoration-color: #00af00\">4</span>, <span style=\"color: #00af00; text-decoration-color: #00af00\">50</span>)          │       <span style=\"color: #00af00; text-decoration-color: #00af00\">520,550</span> │\n",
              "├─────────────────────────────────┼────────────────────────┼───────────────┤\n",
              "│ simple_rnn_10 (<span style=\"color: #0087ff; text-decoration-color: #0087ff\">SimpleRNN</span>)       │ (<span style=\"color: #00d7ff; text-decoration-color: #00d7ff\">None</span>, <span style=\"color: #00af00; text-decoration-color: #00af00\">4</span>, <span style=\"color: #00af00; text-decoration-color: #00af00\">100</span>)         │        <span style=\"color: #00af00; text-decoration-color: #00af00\">15,100</span> │\n",
              "├─────────────────────────────────┼────────────────────────┼───────────────┤\n",
              "│ simple_rnn_11 (<span style=\"color: #0087ff; text-decoration-color: #0087ff\">SimpleRNN</span>)       │ (<span style=\"color: #00d7ff; text-decoration-color: #00d7ff\">None</span>, <span style=\"color: #00af00; text-decoration-color: #00af00\">100</span>)            │        <span style=\"color: #00af00; text-decoration-color: #00af00\">20,100</span> │\n",
              "├─────────────────────────────────┼────────────────────────┼───────────────┤\n",
              "│ dense_10 (<span style=\"color: #0087ff; text-decoration-color: #0087ff\">Dense</span>)                │ (<span style=\"color: #00d7ff; text-decoration-color: #00d7ff\">None</span>, <span style=\"color: #00af00; text-decoration-color: #00af00\">100</span>)            │        <span style=\"color: #00af00; text-decoration-color: #00af00\">10,100</span> │\n",
              "├─────────────────────────────────┼────────────────────────┼───────────────┤\n",
              "│ dense_11 (<span style=\"color: #0087ff; text-decoration-color: #0087ff\">Dense</span>)                │ (<span style=\"color: #00d7ff; text-decoration-color: #00d7ff\">None</span>, <span style=\"color: #00af00; text-decoration-color: #00af00\">10411</span>)          │     <span style=\"color: #00af00; text-decoration-color: #00af00\">1,051,511</span> │\n",
              "└─────────────────────────────────┴────────────────────────┴───────────────┘\n",
              "</pre>\n"
            ]
          },
          "metadata": {}
        },
        {
          "output_type": "display_data",
          "data": {
            "text/plain": [
              "\u001b[1m Total params: \u001b[0m\u001b[38;5;34m1,617,361\u001b[0m (6.17 MB)\n"
            ],
            "text/html": [
              "<pre style=\"white-space:pre;overflow-x:auto;line-height:normal;font-family:Menlo,'DejaVu Sans Mono',consolas,'Courier New',monospace\"><span style=\"font-weight: bold\"> Total params: </span><span style=\"color: #00af00; text-decoration-color: #00af00\">1,617,361</span> (6.17 MB)\n",
              "</pre>\n"
            ]
          },
          "metadata": {}
        },
        {
          "output_type": "display_data",
          "data": {
            "text/plain": [
              "\u001b[1m Trainable params: \u001b[0m\u001b[38;5;34m1,617,361\u001b[0m (6.17 MB)\n"
            ],
            "text/html": [
              "<pre style=\"white-space:pre;overflow-x:auto;line-height:normal;font-family:Menlo,'DejaVu Sans Mono',consolas,'Courier New',monospace\"><span style=\"font-weight: bold\"> Trainable params: </span><span style=\"color: #00af00; text-decoration-color: #00af00\">1,617,361</span> (6.17 MB)\n",
              "</pre>\n"
            ]
          },
          "metadata": {}
        },
        {
          "output_type": "display_data",
          "data": {
            "text/plain": [
              "\u001b[1m Non-trainable params: \u001b[0m\u001b[38;5;34m0\u001b[0m (0.00 B)\n"
            ],
            "text/html": [
              "<pre style=\"white-space:pre;overflow-x:auto;line-height:normal;font-family:Menlo,'DejaVu Sans Mono',consolas,'Courier New',monospace\"><span style=\"font-weight: bold\"> Non-trainable params: </span><span style=\"color: #00af00; text-decoration-color: #00af00\">0</span> (0.00 B)\n",
              "</pre>\n"
            ]
          },
          "metadata": {}
        }
      ]
    },
    {
      "cell_type": "markdown",
      "source": [
        "### Build, Train, and Save the Model\n",
        "\n",
        "- **Build and Train:**  \n",
        "  The RNN model is built using `build_rnn_model` with the vocabulary size and sequence length from `X`. It is trained for 100 epochs with a batch size of 64.\n",
        "\n",
        "- **Save Model:**  \n",
        "  The trained model is saved in the native Keras format (`.keras`).\n",
        "\n",
        "- **Save Training History:**  \n",
        "  The training history (loss, accuracy, etc.) is saved as a JSON file (`train_history.json`) for later analysis and graphing.\n",
        "\n"
      ],
      "metadata": {
        "id": "8bmv6JABs1_C"
      }
    },
    {
      "cell_type": "code",
      "source": [
        "# Build and train the model\n",
        "seq_length = X.shape[1]\n",
        "model = build_rnn_model(vocab_size, seq_length)\n",
        "history = model.fit(X, y, epochs=100, batch_size=64, verbose=1)\n",
        "\n",
        "# Save the model in native Keras format (note the .keras extension)\n",
        "model.save(\"my_rnn_model.keras\")\n",
        "\n",
        "# Save the training history to a JSON file for later graphing\n",
        "import json\n",
        "with open(\"train_history.json\", \"w\") as f:\n",
        "    json.dump(history.history, f)"
      ],
      "metadata": {
        "colab": {
          "base_uri": "https://localhost:8080/"
        },
        "id": "nZbwX5xJ4fXh",
        "outputId": "e22968e6-3f74-4eb5-959f-055e42fe1394"
      },
      "execution_count": null,
      "outputs": [
        {
          "output_type": "stream",
          "name": "stdout",
          "text": [
            "Epoch 1/100\n",
            "\u001b[1m1681/1681\u001b[0m \u001b[32m━━━━━━━━━━━━━━━━━━━━\u001b[0m\u001b[37m\u001b[0m \u001b[1m22s\u001b[0m 12ms/step - accuracy: 0.0517 - loss: 6.9725\n",
            "Epoch 2/100\n",
            "\u001b[1m1681/1681\u001b[0m \u001b[32m━━━━━━━━━━━━━━━━━━━━\u001b[0m\u001b[37m\u001b[0m \u001b[1m21s\u001b[0m 13ms/step - accuracy: 0.0846 - loss: 6.1460\n",
            "Epoch 3/100\n",
            "\u001b[1m1681/1681\u001b[0m \u001b[32m━━━━━━━━━━━━━━━━━━━━\u001b[0m\u001b[37m\u001b[0m \u001b[1m21s\u001b[0m 13ms/step - accuracy: 0.1064 - loss: 5.7916\n",
            "Epoch 4/100\n",
            "\u001b[1m1681/1681\u001b[0m \u001b[32m━━━━━━━━━━━━━━━━━━━━\u001b[0m\u001b[37m\u001b[0m \u001b[1m22s\u001b[0m 13ms/step - accuracy: 0.1248 - loss: 5.5129\n",
            "Epoch 5/100\n",
            "\u001b[1m1681/1681\u001b[0m \u001b[32m━━━━━━━━━━━━━━━━━━━━\u001b[0m\u001b[37m\u001b[0m \u001b[1m22s\u001b[0m 13ms/step - accuracy: 0.1407 - loss: 5.3123\n",
            "Epoch 6/100\n",
            "\u001b[1m1681/1681\u001b[0m \u001b[32m━━━━━━━━━━━━━━━━━━━━\u001b[0m\u001b[37m\u001b[0m \u001b[1m22s\u001b[0m 13ms/step - accuracy: 0.1520 - loss: 5.1614\n",
            "Epoch 7/100\n",
            "\u001b[1m1681/1681\u001b[0m \u001b[32m━━━━━━━━━━━━━━━━━━━━\u001b[0m\u001b[37m\u001b[0m \u001b[1m22s\u001b[0m 13ms/step - accuracy: 0.1651 - loss: 5.0029\n",
            "Epoch 8/100\n",
            "\u001b[1m1681/1681\u001b[0m \u001b[32m━━━━━━━━━━━━━━━━━━━━\u001b[0m\u001b[37m\u001b[0m \u001b[1m22s\u001b[0m 13ms/step - accuracy: 0.1765 - loss: 4.8600\n",
            "Epoch 9/100\n",
            "\u001b[1m1681/1681\u001b[0m \u001b[32m━━━━━━━━━━━━━━━━━━━━\u001b[0m\u001b[37m\u001b[0m \u001b[1m22s\u001b[0m 13ms/step - accuracy: 0.1907 - loss: 4.7140\n",
            "Epoch 10/100\n",
            "\u001b[1m1681/1681\u001b[0m \u001b[32m━━━━━━━━━━━━━━━━━━━━\u001b[0m\u001b[37m\u001b[0m \u001b[1m22s\u001b[0m 13ms/step - accuracy: 0.1953 - loss: 4.6285\n",
            "Epoch 11/100\n",
            "\u001b[1m1681/1681\u001b[0m \u001b[32m━━━━━━━━━━━━━━━━━━━━\u001b[0m\u001b[37m\u001b[0m \u001b[1m23s\u001b[0m 14ms/step - accuracy: 0.2047 - loss: 4.5302\n",
            "Epoch 12/100\n",
            "\u001b[1m1681/1681\u001b[0m \u001b[32m━━━━━━━━━━━━━━━━━━━━\u001b[0m\u001b[37m\u001b[0m \u001b[1m23s\u001b[0m 14ms/step - accuracy: 0.2153 - loss: 4.4240\n",
            "Epoch 13/100\n",
            "\u001b[1m1681/1681\u001b[0m \u001b[32m━━━━━━━━━━━━━━━━━━━━\u001b[0m\u001b[37m\u001b[0m \u001b[1m24s\u001b[0m 14ms/step - accuracy: 0.2239 - loss: 4.3372\n",
            "Epoch 14/100\n",
            "\u001b[1m1681/1681\u001b[0m \u001b[32m━━━━━━━━━━━━━━━━━━━━\u001b[0m\u001b[37m\u001b[0m \u001b[1m23s\u001b[0m 14ms/step - accuracy: 0.2332 - loss: 4.2576\n",
            "Epoch 15/100\n",
            "\u001b[1m1681/1681\u001b[0m \u001b[32m━━━━━━━━━━━━━━━━━━━━\u001b[0m\u001b[37m\u001b[0m \u001b[1m23s\u001b[0m 14ms/step - accuracy: 0.2392 - loss: 4.1810\n",
            "Epoch 16/100\n",
            "\u001b[1m1681/1681\u001b[0m \u001b[32m━━━━━━━━━━━━━━━━━━━━\u001b[0m\u001b[37m\u001b[0m \u001b[1m24s\u001b[0m 14ms/step - accuracy: 0.2479 - loss: 4.1158\n",
            "Epoch 17/100\n",
            "\u001b[1m1681/1681\u001b[0m \u001b[32m━━━━━━━━━━━━━━━━━━━━\u001b[0m\u001b[37m\u001b[0m \u001b[1m24s\u001b[0m 14ms/step - accuracy: 0.2521 - loss: 4.0560\n",
            "Epoch 18/100\n",
            "\u001b[1m1681/1681\u001b[0m \u001b[32m━━━━━━━━━━━━━━━━━━━━\u001b[0m\u001b[37m\u001b[0m \u001b[1m24s\u001b[0m 14ms/step - accuracy: 0.2560 - loss: 4.0071\n",
            "Epoch 19/100\n",
            "\u001b[1m1681/1681\u001b[0m \u001b[32m━━━━━━━━━━━━━━━━━━━━\u001b[0m\u001b[37m\u001b[0m \u001b[1m24s\u001b[0m 14ms/step - accuracy: 0.2628 - loss: 3.9467\n",
            "Epoch 20/100\n",
            "\u001b[1m1681/1681\u001b[0m \u001b[32m━━━━━━━━━━━━━━━━━━━━\u001b[0m\u001b[37m\u001b[0m \u001b[1m23s\u001b[0m 14ms/step - accuracy: 0.2677 - loss: 3.8940\n",
            "Epoch 21/100\n",
            "\u001b[1m1681/1681\u001b[0m \u001b[32m━━━━━━━━━━━━━━━━━━━━\u001b[0m\u001b[37m\u001b[0m \u001b[1m24s\u001b[0m 14ms/step - accuracy: 0.2767 - loss: 3.8094\n",
            "Epoch 22/100\n",
            "\u001b[1m1681/1681\u001b[0m \u001b[32m━━━━━━━━━━━━━━━━━━━━\u001b[0m\u001b[37m\u001b[0m \u001b[1m25s\u001b[0m 15ms/step - accuracy: 0.2837 - loss: 3.7738\n",
            "Epoch 23/100\n",
            "\u001b[1m1681/1681\u001b[0m \u001b[32m━━━━━━━━━━━━━━━━━━━━\u001b[0m\u001b[37m\u001b[0m \u001b[1m25s\u001b[0m 15ms/step - accuracy: 0.2857 - loss: 3.7215\n",
            "Epoch 24/100\n",
            "\u001b[1m1681/1681\u001b[0m \u001b[32m━━━━━━━━━━━━━━━━━━━━\u001b[0m\u001b[37m\u001b[0m \u001b[1m25s\u001b[0m 15ms/step - accuracy: 0.2943 - loss: 3.6644\n",
            "Epoch 25/100\n",
            "\u001b[1m1681/1681\u001b[0m \u001b[32m━━━━━━━━━━━━━━━━━━━━\u001b[0m\u001b[37m\u001b[0m \u001b[1m25s\u001b[0m 15ms/step - accuracy: 0.3004 - loss: 3.6195\n",
            "Epoch 26/100\n",
            "\u001b[1m1681/1681\u001b[0m \u001b[32m━━━━━━━━━━━━━━━━━━━━\u001b[0m\u001b[37m\u001b[0m \u001b[1m24s\u001b[0m 15ms/step - accuracy: 0.3039 - loss: 3.5768\n",
            "Epoch 27/100\n",
            "\u001b[1m1681/1681\u001b[0m \u001b[32m━━━━━━━━━━━━━━━━━━━━\u001b[0m\u001b[37m\u001b[0m \u001b[1m25s\u001b[0m 15ms/step - accuracy: 0.3084 - loss: 3.5332\n",
            "Epoch 28/100\n",
            "\u001b[1m1681/1681\u001b[0m \u001b[32m━━━━━━━━━━━━━━━━━━━━\u001b[0m\u001b[37m\u001b[0m \u001b[1m24s\u001b[0m 14ms/step - accuracy: 0.3139 - loss: 3.4940\n",
            "Epoch 29/100\n",
            "\u001b[1m1681/1681\u001b[0m \u001b[32m━━━━━━━━━━━━━━━━━━━━\u001b[0m\u001b[37m\u001b[0m \u001b[1m25s\u001b[0m 15ms/step - accuracy: 0.3180 - loss: 3.4633\n",
            "Epoch 30/100\n",
            "\u001b[1m1681/1681\u001b[0m \u001b[32m━━━━━━━━━━━━━━━━━━━━\u001b[0m\u001b[37m\u001b[0m \u001b[1m25s\u001b[0m 15ms/step - accuracy: 0.3240 - loss: 3.4203\n",
            "Epoch 31/100\n",
            "\u001b[1m1681/1681\u001b[0m \u001b[32m━━━━━━━━━━━━━━━━━━━━\u001b[0m\u001b[37m\u001b[0m \u001b[1m25s\u001b[0m 15ms/step - accuracy: 0.3297 - loss: 3.3770\n",
            "Epoch 32/100\n",
            "\u001b[1m1681/1681\u001b[0m \u001b[32m━━━━━━━━━━━━━━━━━━━━\u001b[0m\u001b[37m\u001b[0m \u001b[1m26s\u001b[0m 15ms/step - accuracy: 0.3307 - loss: 3.3503\n",
            "Epoch 33/100\n",
            "\u001b[1m1681/1681\u001b[0m \u001b[32m━━━━━━━━━━━━━━━━━━━━\u001b[0m\u001b[37m\u001b[0m \u001b[1m26s\u001b[0m 15ms/step - accuracy: 0.3365 - loss: 3.3150\n",
            "Epoch 34/100\n",
            "\u001b[1m1681/1681\u001b[0m \u001b[32m━━━━━━━━━━━━━━━━━━━━\u001b[0m\u001b[37m\u001b[0m \u001b[1m25s\u001b[0m 15ms/step - accuracy: 0.3433 - loss: 3.2548\n",
            "Epoch 35/100\n",
            "\u001b[1m1681/1681\u001b[0m \u001b[32m━━━━━━━━━━━━━━━━━━━━\u001b[0m\u001b[37m\u001b[0m \u001b[1m26s\u001b[0m 15ms/step - accuracy: 0.3507 - loss: 3.2267\n",
            "Epoch 36/100\n",
            "\u001b[1m1681/1681\u001b[0m \u001b[32m━━━━━━━━━━━━━━━━━━━━\u001b[0m\u001b[37m\u001b[0m \u001b[1m27s\u001b[0m 16ms/step - accuracy: 0.3527 - loss: 3.1914\n",
            "Epoch 37/100\n",
            "\u001b[1m1681/1681\u001b[0m \u001b[32m━━━━━━━━━━━━━━━━━━━━\u001b[0m\u001b[37m\u001b[0m \u001b[1m26s\u001b[0m 15ms/step - accuracy: 0.3570 - loss: 3.1523\n",
            "Epoch 38/100\n",
            "\u001b[1m1681/1681\u001b[0m \u001b[32m━━━━━━━━━━━━━━━━━━━━\u001b[0m\u001b[37m\u001b[0m \u001b[1m26s\u001b[0m 16ms/step - accuracy: 0.3606 - loss: 3.1355\n",
            "Epoch 39/100\n",
            "\u001b[1m1681/1681\u001b[0m \u001b[32m━━━━━━━━━━━━━━━━━━━━\u001b[0m\u001b[37m\u001b[0m \u001b[1m27s\u001b[0m 16ms/step - accuracy: 0.3667 - loss: 3.0922\n",
            "Epoch 40/100\n",
            "\u001b[1m1681/1681\u001b[0m \u001b[32m━━━━━━━━━━━━━━━━━━━━\u001b[0m\u001b[37m\u001b[0m \u001b[1m26s\u001b[0m 16ms/step - accuracy: 0.3716 - loss: 3.0552\n",
            "Epoch 41/100\n",
            "\u001b[1m1681/1681\u001b[0m \u001b[32m━━━━━━━━━━━━━━━━━━━━\u001b[0m\u001b[37m\u001b[0m \u001b[1m27s\u001b[0m 16ms/step - accuracy: 0.3765 - loss: 3.0241\n",
            "Epoch 42/100\n",
            "\u001b[1m1681/1681\u001b[0m \u001b[32m━━━━━━━━━━━━━━━━━━━━\u001b[0m\u001b[37m\u001b[0m \u001b[1m27s\u001b[0m 16ms/step - accuracy: 0.3833 - loss: 2.9685\n",
            "Epoch 43/100\n",
            "\u001b[1m1681/1681\u001b[0m \u001b[32m━━━━━━━━━━━━━━━━━━━━\u001b[0m\u001b[37m\u001b[0m \u001b[1m27s\u001b[0m 16ms/step - accuracy: 0.3869 - loss: 2.9456\n",
            "Epoch 44/100\n",
            "\u001b[1m1681/1681\u001b[0m \u001b[32m━━━━━━━━━━━━━━━━━━━━\u001b[0m\u001b[37m\u001b[0m \u001b[1m28s\u001b[0m 16ms/step - accuracy: 0.3937 - loss: 2.9232\n",
            "Epoch 45/100\n",
            "\u001b[1m1681/1681\u001b[0m \u001b[32m━━━━━━━━━━━━━━━━━━━━\u001b[0m\u001b[37m\u001b[0m \u001b[1m27s\u001b[0m 16ms/step - accuracy: 0.3973 - loss: 2.8920\n",
            "Epoch 46/100\n",
            "\u001b[1m1681/1681\u001b[0m \u001b[32m━━━━━━━━━━━━━━━━━━━━\u001b[0m\u001b[37m\u001b[0m \u001b[1m27s\u001b[0m 16ms/step - accuracy: 0.4009 - loss: 2.8782\n",
            "Epoch 47/100\n",
            "\u001b[1m1681/1681\u001b[0m \u001b[32m━━━━━━━━━━━━━━━━━━━━\u001b[0m\u001b[37m\u001b[0m \u001b[1m26s\u001b[0m 16ms/step - accuracy: 0.4058 - loss: 2.8307\n",
            "Epoch 48/100\n",
            "\u001b[1m1681/1681\u001b[0m \u001b[32m━━━━━━━━━━━━━━━━━━━━\u001b[0m\u001b[37m\u001b[0m \u001b[1m26s\u001b[0m 16ms/step - accuracy: 0.4087 - loss: 2.8080\n",
            "Epoch 49/100\n",
            "\u001b[1m1681/1681\u001b[0m \u001b[32m━━━━━━━━━━━━━━━━━━━━\u001b[0m\u001b[37m\u001b[0m \u001b[1m27s\u001b[0m 16ms/step - accuracy: 0.4149 - loss: 2.7816\n",
            "Epoch 50/100\n",
            "\u001b[1m1681/1681\u001b[0m \u001b[32m━━━━━━━━━━━━━━━━━━━━\u001b[0m\u001b[37m\u001b[0m \u001b[1m25s\u001b[0m 15ms/step - accuracy: 0.4181 - loss: 2.7496\n",
            "Epoch 51/100\n",
            "\u001b[1m1681/1681\u001b[0m \u001b[32m━━━━━━━━━━━━━━━━━━━━\u001b[0m\u001b[37m\u001b[0m \u001b[1m25s\u001b[0m 15ms/step - accuracy: 0.4232 - loss: 2.7263\n",
            "Epoch 52/100\n",
            "\u001b[1m1681/1681\u001b[0m \u001b[32m━━━━━━━━━━━━━━━━━━━━\u001b[0m\u001b[37m\u001b[0m \u001b[1m27s\u001b[0m 16ms/step - accuracy: 0.4265 - loss: 2.7010\n",
            "Epoch 53/100\n",
            "\u001b[1m1681/1681\u001b[0m \u001b[32m━━━━━━━━━━━━━━━━━━━━\u001b[0m\u001b[37m\u001b[0m \u001b[1m28s\u001b[0m 17ms/step - accuracy: 0.4289 - loss: 2.6864\n",
            "Epoch 54/100\n",
            "\u001b[1m1681/1681\u001b[0m \u001b[32m━━━━━━━━━━━━━━━━━━━━\u001b[0m\u001b[37m\u001b[0m \u001b[1m29s\u001b[0m 17ms/step - accuracy: 0.4337 - loss: 2.6600\n",
            "Epoch 55/100\n",
            "\u001b[1m1681/1681\u001b[0m \u001b[32m━━━━━━━━━━━━━━━━━━━━\u001b[0m\u001b[37m\u001b[0m \u001b[1m28s\u001b[0m 17ms/step - accuracy: 0.4389 - loss: 2.6282\n",
            "Epoch 56/100\n",
            "\u001b[1m1681/1681\u001b[0m \u001b[32m━━━━━━━━━━━━━━━━━━━━\u001b[0m\u001b[37m\u001b[0m \u001b[1m25s\u001b[0m 15ms/step - accuracy: 0.4395 - loss: 2.6121\n",
            "Epoch 57/100\n",
            "\u001b[1m1681/1681\u001b[0m \u001b[32m━━━━━━━━━━━━━━━━━━━━\u001b[0m\u001b[37m\u001b[0m \u001b[1m24s\u001b[0m 14ms/step - accuracy: 0.4436 - loss: 2.5899\n",
            "Epoch 58/100\n",
            "\u001b[1m1681/1681\u001b[0m \u001b[32m━━━━━━━━━━━━━━━━━━━━\u001b[0m\u001b[37m\u001b[0m \u001b[1m27s\u001b[0m 16ms/step - accuracy: 0.4461 - loss: 2.5756\n",
            "Epoch 59/100\n",
            "\u001b[1m1681/1681\u001b[0m \u001b[32m━━━━━━━━━━━━━━━━━━━━\u001b[0m\u001b[37m\u001b[0m \u001b[1m27s\u001b[0m 16ms/step - accuracy: 0.4508 - loss: 2.5390\n",
            "Epoch 60/100\n",
            "\u001b[1m1681/1681\u001b[0m \u001b[32m━━━━━━━━━━━━━━━━━━━━\u001b[0m\u001b[37m\u001b[0m \u001b[1m26s\u001b[0m 16ms/step - accuracy: 0.4523 - loss: 2.5382\n",
            "Epoch 61/100\n",
            "\u001b[1m1681/1681\u001b[0m \u001b[32m━━━━━━━━━━━━━━━━━━━━\u001b[0m\u001b[37m\u001b[0m \u001b[1m26s\u001b[0m 15ms/step - accuracy: 0.4528 - loss: 2.5399\n",
            "Epoch 62/100\n",
            "\u001b[1m1681/1681\u001b[0m \u001b[32m━━━━━━━━━━━━━━━━━━━━\u001b[0m\u001b[37m\u001b[0m \u001b[1m26s\u001b[0m 15ms/step - accuracy: 0.4592 - loss: 2.4924\n",
            "Epoch 63/100\n",
            "\u001b[1m1681/1681\u001b[0m \u001b[32m━━━━━━━━━━━━━━━━━━━━\u001b[0m\u001b[37m\u001b[0m \u001b[1m25s\u001b[0m 15ms/step - accuracy: 0.4631 - loss: 2.4768\n",
            "Epoch 64/100\n",
            "\u001b[1m1681/1681\u001b[0m \u001b[32m━━━━━━━━━━━━━━━━━━━━\u001b[0m\u001b[37m\u001b[0m \u001b[1m25s\u001b[0m 15ms/step - accuracy: 0.4629 - loss: 2.4774\n",
            "Epoch 65/100\n",
            "\u001b[1m1681/1681\u001b[0m \u001b[32m━━━━━━━━━━━━━━━━━━━━\u001b[0m\u001b[37m\u001b[0m \u001b[1m25s\u001b[0m 15ms/step - accuracy: 0.4688 - loss: 2.4338\n",
            "Epoch 66/100\n",
            "\u001b[1m1681/1681\u001b[0m \u001b[32m━━━━━━━━━━━━━━━━━━━━\u001b[0m\u001b[37m\u001b[0m \u001b[1m25s\u001b[0m 15ms/step - accuracy: 0.4694 - loss: 2.4282\n",
            "Epoch 67/100\n",
            "\u001b[1m1681/1681\u001b[0m \u001b[32m━━━━━━━━━━━━━━━━━━━━\u001b[0m\u001b[37m\u001b[0m \u001b[1m28s\u001b[0m 17ms/step - accuracy: 0.4714 - loss: 2.4210\n",
            "Epoch 68/100\n",
            "\u001b[1m1681/1681\u001b[0m \u001b[32m━━━━━━━━━━━━━━━━━━━━\u001b[0m\u001b[37m\u001b[0m \u001b[1m26s\u001b[0m 16ms/step - accuracy: 0.4719 - loss: 2.4157\n",
            "Epoch 69/100\n",
            "\u001b[1m1681/1681\u001b[0m \u001b[32m━━━━━━━━━━━━━━━━━━━━\u001b[0m\u001b[37m\u001b[0m \u001b[1m26s\u001b[0m 15ms/step - accuracy: 0.4804 - loss: 2.3787\n",
            "Epoch 70/100\n",
            "\u001b[1m1681/1681\u001b[0m \u001b[32m━━━━━━━━━━━━━━━━━━━━\u001b[0m\u001b[37m\u001b[0m \u001b[1m25s\u001b[0m 15ms/step - accuracy: 0.4788 - loss: 2.3817\n",
            "Epoch 71/100\n",
            "\u001b[1m1681/1681\u001b[0m \u001b[32m━━━━━━━━━━━━━━━━━━━━\u001b[0m\u001b[37m\u001b[0m \u001b[1m25s\u001b[0m 15ms/step - accuracy: 0.4875 - loss: 2.3390\n",
            "Epoch 72/100\n",
            "\u001b[1m1681/1681\u001b[0m \u001b[32m━━━━━━━━━━━━━━━━━━━━\u001b[0m\u001b[37m\u001b[0m \u001b[1m25s\u001b[0m 15ms/step - accuracy: 0.4826 - loss: 2.3492\n",
            "Epoch 73/100\n",
            "\u001b[1m1681/1681\u001b[0m \u001b[32m━━━━━━━━━━━━━━━━━━━━\u001b[0m\u001b[37m\u001b[0m \u001b[1m25s\u001b[0m 15ms/step - accuracy: 0.4849 - loss: 2.3517\n",
            "Epoch 74/100\n",
            "\u001b[1m1681/1681\u001b[0m \u001b[32m━━━━━━━━━━━━━━━━━━━━\u001b[0m\u001b[37m\u001b[0m \u001b[1m25s\u001b[0m 15ms/step - accuracy: 0.4921 - loss: 2.3179\n",
            "Epoch 75/100\n",
            "\u001b[1m1681/1681\u001b[0m \u001b[32m━━━━━━━━━━━━━━━━━━━━\u001b[0m\u001b[37m\u001b[0m \u001b[1m24s\u001b[0m 14ms/step - accuracy: 0.4962 - loss: 2.3038\n",
            "Epoch 76/100\n",
            "\u001b[1m1681/1681\u001b[0m \u001b[32m━━━━━━━━━━━━━━━━━━━━\u001b[0m\u001b[37m\u001b[0m \u001b[1m24s\u001b[0m 14ms/step - accuracy: 0.4946 - loss: 2.3012\n",
            "Epoch 77/100\n",
            "\u001b[1m1681/1681\u001b[0m \u001b[32m━━━━━━━━━━━━━━━━━━━━\u001b[0m\u001b[37m\u001b[0m \u001b[1m24s\u001b[0m 14ms/step - accuracy: 0.4992 - loss: 2.2707\n",
            "Epoch 78/100\n",
            "\u001b[1m1681/1681\u001b[0m \u001b[32m━━━━━━━━━━━━━━━━━━━━\u001b[0m\u001b[37m\u001b[0m \u001b[1m27s\u001b[0m 16ms/step - accuracy: 0.4979 - loss: 2.2726\n",
            "Epoch 79/100\n",
            "\u001b[1m1681/1681\u001b[0m \u001b[32m━━━━━━━━━━━━━━━━━━━━\u001b[0m\u001b[37m\u001b[0m \u001b[1m24s\u001b[0m 14ms/step - accuracy: 0.5008 - loss: 2.2511\n",
            "Epoch 80/100\n",
            "\u001b[1m1681/1681\u001b[0m \u001b[32m━━━━━━━━━━━━━━━━━━━━\u001b[0m\u001b[37m\u001b[0m \u001b[1m24s\u001b[0m 14ms/step - accuracy: 0.5031 - loss: 2.2387\n",
            "Epoch 81/100\n",
            "\u001b[1m1681/1681\u001b[0m \u001b[32m━━━━━━━━━━━━━━━━━━━━\u001b[0m\u001b[37m\u001b[0m \u001b[1m25s\u001b[0m 15ms/step - accuracy: 0.5021 - loss: 2.2435\n",
            "Epoch 82/100\n",
            "\u001b[1m1681/1681\u001b[0m \u001b[32m━━━━━━━━━━━━━━━━━━━━\u001b[0m\u001b[37m\u001b[0m \u001b[1m24s\u001b[0m 14ms/step - accuracy: 0.5053 - loss: 2.2367\n",
            "Epoch 83/100\n",
            "\u001b[1m1681/1681\u001b[0m \u001b[32m━━━━━━━━━━━━━━━━━━━━\u001b[0m\u001b[37m\u001b[0m \u001b[1m25s\u001b[0m 15ms/step - accuracy: 0.5088 - loss: 2.2128\n",
            "Epoch 84/100\n",
            "\u001b[1m1681/1681\u001b[0m \u001b[32m━━━━━━━━━━━━━━━━━━━━\u001b[0m\u001b[37m\u001b[0m \u001b[1m25s\u001b[0m 15ms/step - accuracy: 0.5094 - loss: 2.2019\n",
            "Epoch 85/100\n",
            "\u001b[1m1681/1681\u001b[0m \u001b[32m━━━━━━━━━━━━━━━━━━━━\u001b[0m\u001b[37m\u001b[0m \u001b[1m26s\u001b[0m 15ms/step - accuracy: 0.5115 - loss: 2.1974\n",
            "Epoch 86/100\n",
            "\u001b[1m1681/1681\u001b[0m \u001b[32m━━━━━━━━━━━━━━━━━━━━\u001b[0m\u001b[37m\u001b[0m \u001b[1m25s\u001b[0m 15ms/step - accuracy: 0.5133 - loss: 2.1918\n",
            "Epoch 87/100\n",
            "\u001b[1m1681/1681\u001b[0m \u001b[32m━━━━━━━━━━━━━━━━━━━━\u001b[0m\u001b[37m\u001b[0m \u001b[1m24s\u001b[0m 15ms/step - accuracy: 0.5116 - loss: 2.1952\n",
            "Epoch 88/100\n",
            "\u001b[1m1681/1681\u001b[0m \u001b[32m━━━━━━━━━━━━━━━━━━━━\u001b[0m\u001b[37m\u001b[0m \u001b[1m25s\u001b[0m 15ms/step - accuracy: 0.5150 - loss: 2.1735\n",
            "Epoch 89/100\n",
            "\u001b[1m1681/1681\u001b[0m \u001b[32m━━━━━━━━━━━━━━━━━━━━\u001b[0m\u001b[37m\u001b[0m \u001b[1m25s\u001b[0m 15ms/step - accuracy: 0.5157 - loss: 2.1705\n",
            "Epoch 90/100\n",
            "\u001b[1m1681/1681\u001b[0m \u001b[32m━━━━━━━━━━━━━━━━━━━━\u001b[0m\u001b[37m\u001b[0m \u001b[1m25s\u001b[0m 15ms/step - accuracy: 0.5214 - loss: 2.1436\n",
            "Epoch 91/100\n",
            "\u001b[1m1681/1681\u001b[0m \u001b[32m━━━━━━━━━━━━━━━━━━━━\u001b[0m\u001b[37m\u001b[0m \u001b[1m25s\u001b[0m 15ms/step - accuracy: 0.5193 - loss: 2.1462\n",
            "Epoch 92/100\n",
            "\u001b[1m1681/1681\u001b[0m \u001b[32m━━━━━━━━━━━━━━━━━━━━\u001b[0m\u001b[37m\u001b[0m \u001b[1m25s\u001b[0m 15ms/step - accuracy: 0.5222 - loss: 2.1377\n",
            "Epoch 93/100\n",
            "\u001b[1m1681/1681\u001b[0m \u001b[32m━━━━━━━━━━━━━━━━━━━━\u001b[0m\u001b[37m\u001b[0m \u001b[1m25s\u001b[0m 15ms/step - accuracy: 0.5233 - loss: 2.1300\n",
            "Epoch 94/100\n",
            "\u001b[1m1681/1681\u001b[0m \u001b[32m━━━━━━━━━━━━━━━━━━━━\u001b[0m\u001b[37m\u001b[0m \u001b[1m25s\u001b[0m 15ms/step - accuracy: 0.5258 - loss: 2.1086\n",
            "Epoch 95/100\n",
            "\u001b[1m1681/1681\u001b[0m \u001b[32m━━━━━━━━━━━━━━━━━━━━\u001b[0m\u001b[37m\u001b[0m \u001b[1m25s\u001b[0m 15ms/step - accuracy: 0.5296 - loss: 2.0906\n",
            "Epoch 96/100\n",
            "\u001b[1m1681/1681\u001b[0m \u001b[32m━━━━━━━━━━━━━━━━━━━━\u001b[0m\u001b[37m\u001b[0m \u001b[1m25s\u001b[0m 15ms/step - accuracy: 0.5281 - loss: 2.1046\n",
            "Epoch 97/100\n",
            "\u001b[1m1681/1681\u001b[0m \u001b[32m━━━━━━━━━━━━━━━━━━━━\u001b[0m\u001b[37m\u001b[0m \u001b[1m25s\u001b[0m 15ms/step - accuracy: 0.5284 - loss: 2.0897\n",
            "Epoch 98/100\n",
            "\u001b[1m1681/1681\u001b[0m \u001b[32m━━━━━━━━━━━━━━━━━━━━\u001b[0m\u001b[37m\u001b[0m \u001b[1m25s\u001b[0m 15ms/step - accuracy: 0.5310 - loss: 2.0953\n",
            "Epoch 99/100\n",
            "\u001b[1m1681/1681\u001b[0m \u001b[32m━━━━━━━━━━━━━━━━━━━━\u001b[0m\u001b[37m\u001b[0m \u001b[1m26s\u001b[0m 15ms/step - accuracy: 0.5331 - loss: 2.0776\n",
            "Epoch 100/100\n",
            "\u001b[1m1681/1681\u001b[0m \u001b[32m━━━━━━━━━━━━━━━━━━━━\u001b[0m\u001b[37m\u001b[0m \u001b[1m26s\u001b[0m 15ms/step - accuracy: 0.5370 - loss: 2.0524\n"
          ]
        }
      ]
    },
    {
      "cell_type": "markdown",
      "source": [
        "\n",
        "### Load and Plot Training History\n",
        "\n",
        "- **Load History:** Reads the training metrics from `train_history.json`.\n",
        "- **Plotting:**  \n",
        "  - Plots training loss (in red) and training accuracy (in blue) on the same graph.\n",
        "  - Labels the axes (`Epoch` on x-axis and `Value` on y-axis) and adds a title.\n",
        "  - Includes a legend and grid for clarity.\n"
      ],
      "metadata": {
        "id": "0_pXTJorymXE"
      }
    },
    {
      "cell_type": "code",
      "source": [
        "# Load training history\n",
        "with open(\"train_history.json\", \"r\") as f:\n",
        "    history = json.load(f)\n",
        "\n",
        "# Plot both loss and accuracy on the same graph\n",
        "plt.figure(figsize=(8, 6))\n",
        "plt.plot(history['loss'], color='red', label='Loss')\n",
        "plt.plot(history['accuracy'], color='blue', label='Accuracy')\n",
        "plt.xlabel('Epoch')\n",
        "plt.ylabel('Value')\n",
        "plt.title('Training Loss and Accuracy')\n",
        "plt.legend()\n",
        "plt.grid(True)\n",
        "plt.show()"
      ],
      "metadata": {
        "colab": {
          "base_uri": "https://localhost:8080/",
          "height": 564
        },
        "id": "Qzqi6UbPx0Vz",
        "outputId": "4c81020c-7531-4a74-d991-a74dfbf80d74"
      },
      "execution_count": null,
      "outputs": [
        {
          "output_type": "display_data",
          "data": {
            "text/plain": [
              "<Figure size 800x600 with 1 Axes>"
            ],
            "image/png": "[encoded data removed]"
          },
          "metadata": {}
        }
      ]
    },
    {
      "cell_type": "markdown",
      "source": [
        "\n",
        "### Predict the Next Word\n",
        "\n",
        "- **Preprocessing:** Converts input text to lowercase, removes punctuation, and splits into words.\n",
        "- **Padding:** If the input is shorter than `seq_length`, prepends `<PAD>` tokens.\n",
        "- **Encoding:** Maps words to their indices and pads the sequence.\n",
        "- **Prediction:** Uses the trained model to predict the next word's index, then retrieves the corresponding token from the tokenizer.\n"
      ],
      "metadata": {
        "id": "Jz9PeKRWtA17"
      }
    },
    {
      "cell_type": "code",
      "source": [
        "# Predict the next word\n",
        "def predict_next_word(model, tokenizer, text, seq_length):\n",
        "    text = preprocess_text(text)\n",
        "    words = text.split()\n",
        "\n",
        "    # Pad with start tokens if input is too short\n",
        "    while len(words) < seq_length:\n",
        "        words.insert(0, \"<PAD>\")\n",
        "\n",
        "    seq = words[-seq_length:]\n",
        "    encoded_seq = [tokenizer.word_index.get(word, 0) for word in seq]\n",
        "    encoded_seq = pad_sequences([encoded_seq], maxlen=seq_length, padding='pre')\n",
        "\n",
        "    predicted_index = np.argmax(model.predict(encoded_seq), axis=-1)[0]\n",
        "    predicted_word = {index: word for word, index in tokenizer.word_index.items()}.get(predicted_index, \"[Unknown]\")\n",
        "\n",
        "    return predicted_word"
      ],
      "metadata": {
        "id": "wYx-NgLO5M-a"
      },
      "execution_count": null,
      "outputs": []
    },
    {
      "cell_type": "markdown",
      "source": [
        "\n",
        "### User Input for Testing\n",
        "\n",
        "- **Input Prompt:** Asks the user to enter a phrase.\n",
        "- **Prediction:** Uses `predict_next_word` to determine the next word based on the input.\n",
        "- **Output:** Displays both the user's phrase and the predicted word.\n"
      ],
      "metadata": {
        "id": "BHIaby1ktJyd"
      }
    },
    {
      "cell_type": "code",
      "source": [
        "# User input for testing\n",
        "user_input = input(\"Enter a phrase: \")\n",
        "predicted_word = predict_next_word(model, tokenizer, user_input, seq_length)\n",
        "print(f\"User Input: {user_input}\\nPredicted Next Word: {predicted_word}\")"
      ],
      "metadata": {
        "colab": {
          "base_uri": "https://localhost:8080/"
        },
        "id": "1IOt_qDr6cwh",
        "outputId": "70ea546b-ac5f-402f-f4e5-e034cb7dfff3"
      },
      "execution_count": null,
      "outputs": [
        {
          "output_type": "stream",
          "name": "stdout",
          "text": [
            "Enter a phrase: I am very \n",
            "\u001b[1m1/1\u001b[0m \u001b[32m━━━━━━━━━━━━━━━━━━━━\u001b[0m\u001b[37m\u001b[0m \u001b[1m0s\u001b[0m 18ms/step\n",
            "User Input: I am very \n",
            "Predicted Next Word: stupid\n"
          ]
        }
      ]
    },
    {
      "cell_type": "markdown",
      "source": [
        "\n",
        "### End Summary\n",
        "\n",
        "In this assignment, we built an RNN language model to predict the next word in a sequence. We observed that:\n",
        "\n",
        "- **Data Preprocessing & Tokenization:** Proper cleaning and tokenization are essential for good performance.\n",
        "- **Model Training:** The RNN successfully learned language patterns, as reflected by the improvements in loss and accuracy over epochs.\n",
        "- **Prediction Capability:** Although the predictions aren’t perfect, the model demonstrates a solid understanding of sequential word patterns.\n",
        "\n",
        "Overall, this project highlights the importance of data preparation, effective model design, and training strategies in natural language processing.\n",
        "\n",
        "Some Outputs:\n",
        "\n",
        "![Screenshot 2025-03-03 at 9.21.36 PM.png](data:image/png;base64,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)\n",
        "\n",
        "\n",
        "\n",
        "\n",
        "\n",
        "\n",
        "![Screenshot 2025-03-03 at 9.20.58 PM.png](data:image/png;base64,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)\n",
        "\n"
      ],
      "metadata": {
        "id": "Ks0PgFxaFulF"
      }
    }
  ]
}